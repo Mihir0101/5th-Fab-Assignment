{
 "cells": [
  {
   "cell_type": "markdown",
   "id": "5f26c630-cdeb-4b5d-8c11-da15c7f8bda3",
   "metadata": {},
   "source": [
    "# 5th Fab Assignment"
   ]
  },
  {
   "cell_type": "markdown",
   "id": "94f3cba5-0e38-461a-ab21-5c145d893013",
   "metadata": {},
   "source": [
    "------------------------------------------------------------------------------------------------------------------------------------------------"
   ]
  },
  {
   "cell_type": "markdown",
   "id": "8b8c4c8a-9e07-4159-afc7-73bb789628db",
   "metadata": {},
   "source": [
    "Q1. Explain Class and Object with respect to Object-Oriented Programming. Give a suitable example."
   ]
  },
  {
   "cell_type": "markdown",
   "id": "0c43959f-c500-40aa-a97e-8d5628e14260",
   "metadata": {},
   "source": [
    "* Class\n",
    "\n",
    "-> Calss just classify the real world entity,buy not specific real world entity.\n",
    "\n",
    "-> For example,We can say string is an class.\n",
    "\n",
    "-> Class is very usefull for write the code in structral way.\n",
    "\n",
    "-> Because of class, your code will look simple rathar than complex.\n",
    "\n",
    "-> With the help of simplycity if anyone want to contribute in the code ,so he/she can contribute easyly.\n",
    "\n",
    "* Object\n",
    "\n",
    "-> Object is a real world entity.\n",
    "\n",
    "-> We can call object as an varialble and instance also."
   ]
  },
  {
   "cell_type": "markdown",
   "id": "3e3ece59-1f11-4fd6-a258-1cba82a4934b",
   "metadata": {},
   "source": [
    "* Example"
   ]
  },
  {
   "cell_type": "code",
   "execution_count": 6,
   "id": "de59f7a6-7545-41be-b43c-05f2bad05c32",
   "metadata": {},
   "outputs": [],
   "source": [
    "class oops():\n",
    "    \n",
    "    def stands_for(self):\n",
    "        print(\"Object-Oriented Programming System\")"
   ]
  },
  {
   "cell_type": "code",
   "execution_count": 7,
   "id": "841f889b-b682-4d7c-9c6b-868a0439eec5",
   "metadata": {},
   "outputs": [],
   "source": [
    "call = oops()"
   ]
  },
  {
   "cell_type": "code",
   "execution_count": 8,
   "id": "fd95a839-eb5c-42d3-a9b7-980d7664d492",
   "metadata": {},
   "outputs": [
    {
     "name": "stdout",
     "output_type": "stream",
     "text": [
      "Object-Oriented Programming System\n"
     ]
    }
   ],
   "source": [
    "call.stands_for()"
   ]
  },
  {
   "cell_type": "markdown",
   "id": "5452e6f1-cc18-4be3-9407-86928a786fe8",
   "metadata": {},
   "source": [
    "------------------------------------------------------------------------------------------------------------------------------------------------"
   ]
  },
  {
   "cell_type": "markdown",
   "id": "07548e9d-d234-4cdc-ba6b-5a4917b019c9",
   "metadata": {},
   "source": [
    "Q2. Name the four pillars of OOPs."
   ]
  },
  {
   "cell_type": "markdown",
   "id": "1236deab-69ba-48e4-b006-e3cef0a498eb",
   "metadata": {},
   "source": [
    "1. Abstraction\n",
    "2. Encapsulation\n",
    "3. Inheritance\n",
    "4. Polymorphism"
   ]
  },
  {
   "cell_type": "markdown",
   "id": "ad223744-d47a-4755-bfb9-b477850da049",
   "metadata": {},
   "source": [
    "------------------------------------------------------------------------------------------------------------------------------------------------"
   ]
  },
  {
   "cell_type": "markdown",
   "id": "26b121f1-ee52-4862-9e84-b277878eaf4c",
   "metadata": {},
   "source": [
    "Q3. Explain why the __init__() function is used. Give a suitable example."
   ]
  },
  {
   "cell_type": "markdown",
   "id": "61f7d477-e9f3-4b80-9ba0-26cc6f42d9fc",
   "metadata": {},
   "source": [
    "* __init__\n",
    "\n",
    "-> __init__ is a initialization,we can call it as an constructor.\n",
    "\n",
    "-> __init__ is a in-built function.\n",
    "\n",
    "-> It is used for pass the data in a class."
   ]
  },
  {
   "cell_type": "markdown",
   "id": "48f22612-84f2-4b71-ab64-e7cfdedc57a0",
   "metadata": {},
   "source": [
    "* Example"
   ]
  },
  {
   "cell_type": "code",
   "execution_count": 23,
   "id": "bd4f2036-f644-43ad-9fa2-6cb83420cebb",
   "metadata": {},
   "outputs": [],
   "source": [
    "class add_details():\n",
    "    \n",
    "    def __init__(self,name,number):\n",
    "        self.namee = name\n",
    "        self.numberr = number\n",
    "        \n",
    "    def get_details(self):\n",
    "        return self.namee,self.numberr"
   ]
  },
  {
   "cell_type": "code",
   "execution_count": 24,
   "id": "6cc1bd4a-fb7f-40a2-98ba-594d83b912a9",
   "metadata": {},
   "outputs": [],
   "source": [
    "details = add_details(\"Mihir Parmar\",5487963515)"
   ]
  },
  {
   "cell_type": "code",
   "execution_count": 25,
   "id": "806204ef-40a2-4dd0-ac23-551ec879614b",
   "metadata": {},
   "outputs": [
    {
     "data": {
      "text/plain": [
       "'Mihir Parmar'"
      ]
     },
     "execution_count": 25,
     "metadata": {},
     "output_type": "execute_result"
    }
   ],
   "source": [
    "details.namee"
   ]
  },
  {
   "cell_type": "code",
   "execution_count": 27,
   "id": "e2a21858-d7ea-45b5-9995-ee87a690aa59",
   "metadata": {},
   "outputs": [
    {
     "data": {
      "text/plain": [
       "5487963515"
      ]
     },
     "execution_count": 27,
     "metadata": {},
     "output_type": "execute_result"
    }
   ],
   "source": [
    "details.numberr"
   ]
  },
  {
   "cell_type": "markdown",
   "id": "795d016d-30a2-4e53-91ff-69987dc8ad38",
   "metadata": {},
   "source": [
    "------------------------------------------------------------------------------------------------------------------------------------------------"
   ]
  },
  {
   "cell_type": "markdown",
   "id": "a8452043-5205-4cda-892d-a0621c60f129",
   "metadata": {},
   "source": [
    "Q4. Why self is used in OOPs?"
   ]
  },
  {
   "cell_type": "markdown",
   "id": "2afc1c25-70ee-49e0-b5b3-40a225145e46",
   "metadata": {},
   "source": [
    "-> Self is used for connect the method to the class.\n",
    "\n",
    "-> Self isn't a reserved keyword.\n",
    "\n",
    "-> We can use any word that we want to use intstead of self.\n",
    "\n",
    "-> Accessing the function name is easier than dealing with the whole block of code."
   ]
  },
  {
   "cell_type": "markdown",
   "id": "c79a365d-b7b8-4e40-a3c0-886e931f2962",
   "metadata": {},
   "source": [
    "------------------------------------------------------------------------------------------------------------------------------------------------"
   ]
  },
  {
   "cell_type": "markdown",
   "id": "6f653256-de82-4b29-9150-65584842a815",
   "metadata": {},
   "source": [
    "Q5. What is inheritance? Give an example for each type of inheritance."
   ]
  },
  {
   "cell_type": "markdown",
   "id": "de3f19fa-53c7-40ee-98ca-550fb9a25259",
   "metadata": {},
   "source": [
    "-> Python is an object-oriented programming language and inheritance is one of the feature of them.\n",
    "\n",
    "-> Inheritance is the ability to inherit one class to another class.\n",
    "\n",
    "-> It provides reusability."
   ]
  },
  {
   "cell_type": "markdown",
   "id": "8fffa9d8-e825-4041-b54f-e1f09f668a20",
   "metadata": {},
   "source": [
    "* Types of Inheritance\n",
    "\n",
    "1. Single Inheritace\n",
    "2. Multiple Inheritance\n",
    "3. Multilevel Inheritance\n",
    "4. Hierarchical Inheritance\n",
    "5. Hybrid Inheritance"
   ]
  },
  {
   "cell_type": "code",
   "execution_count": 1,
   "id": "46db2712-7fc7-465a-989a-ee34ca518016",
   "metadata": {},
   "outputs": [
    {
     "name": "stdout",
     "output_type": "stream",
     "text": [
      "John is a Professor\n"
     ]
    }
   ],
   "source": [
    "#01 Single Inheritance\n",
    "\n",
    "class Person:\n",
    "    def __init__(self, name, age):\n",
    "        self.name = name\n",
    "        self.age = age\n",
    "class Professor(Person):\n",
    "    def isProfessor(self):\n",
    "        return f\"{self.name} is a Professor\"\n",
    "sir = Professor(\"John\", 30)\n",
    "print(sir.isProfessor())"
   ]
  },
  {
   "cell_type": "code",
   "execution_count": 2,
   "id": "5c6806ff-3dff-4a7f-bbb2-388567186a7b",
   "metadata": {},
   "outputs": [
    {
     "name": "stdout",
     "output_type": "stream",
     "text": [
      "8\n"
     ]
    }
   ],
   "source": [
    "#02 Multiple Inheritance\n",
    "\n",
    "class SuperClass1:\n",
    "    num1 = 3\n",
    "class SuperClass2:\n",
    "    num2 = 5\n",
    "class SubClass( SuperClass1, SuperClass2):\n",
    "    def addition(self):\n",
    "        return self.num1 + self.num2\n",
    "obj = SubClass()\n",
    "print(obj.addition())"
   ]
  },
  {
   "cell_type": "code",
   "execution_count": 3,
   "id": "662c3c77-7ab8-4432-94bf-3ef7a36ba5a9",
   "metadata": {},
   "outputs": [
    {
     "name": "stdout",
     "output_type": "stream",
     "text": [
      "PythonGeeks\n"
     ]
    }
   ],
   "source": [
    "#03 Multilevel Inheritance\n",
    "\n",
    "class Parent:\n",
    "    str1 = \"Python\"\n",
    "class Child(Parent):\n",
    "    str2 = \"Geeks\"\n",
    "class GrandChild(Child):\n",
    "    def get_str(self):\n",
    "        print(self.str1 + self.str2)\n",
    "person = GrandChild()\n",
    "person.get_str()"
   ]
  },
  {
   "cell_type": "code",
   "execution_count": 4,
   "id": "c17a4c5b-bb25-473e-9c3c-6abc3058b0ee",
   "metadata": {},
   "outputs": [
    {
     "name": "stdout",
     "output_type": "stream",
     "text": [
      "3 3 3\n"
     ]
    }
   ],
   "source": [
    "#04 Hierarchical Inheritance\n",
    "\n",
    "class SuperClass:\n",
    "    x = 3\n",
    "class SubClass1(SuperClass):\n",
    "    pass\n",
    "class SubClass2(SuperClass):\n",
    "    pass\n",
    "class SubClass3(SuperClass):\n",
    "    pass\n",
    "a = SubClass1()\n",
    "b = SubClass2()\n",
    "c = SubClass3()\n",
    "print(a.x, b.x, c.x)"
   ]
  },
  {
   "cell_type": "code",
   "execution_count": 5,
   "id": "5c71b666-a185-44b0-8af8-a0be497cd4b2",
   "metadata": {},
   "outputs": [
    {
     "name": "stdout",
     "output_type": "stream",
     "text": [
      "10\n"
     ]
    }
   ],
   "source": [
    "#05 Hybrid Inheritance\n",
    "\n",
    "class X:\n",
    "    num = 10\n",
    "class A(X):\n",
    "    pass\n",
    "class B(A):\n",
    "    pass\n",
    "class C(A):\n",
    "    pass\n",
    "class D(B, C):\n",
    "    pass\n",
    "ob = D()\n",
    "print(D.num)"
   ]
  },
  {
   "cell_type": "code",
   "execution_count": null,
   "id": "6b954715-eb6e-489d-b614-b0e2619e22e0",
   "metadata": {},
   "outputs": [],
   "source": []
  }
 ],
 "metadata": {
  "kernelspec": {
   "display_name": "Python 3 (ipykernel)",
   "language": "python",
   "name": "python3"
  },
  "language_info": {
   "codemirror_mode": {
    "name": "ipython",
    "version": 3
   },
   "file_extension": ".py",
   "mimetype": "text/x-python",
   "name": "python",
   "nbconvert_exporter": "python",
   "pygments_lexer": "ipython3",
   "version": "3.10.8"
  }
 },
 "nbformat": 4,
 "nbformat_minor": 5
}
